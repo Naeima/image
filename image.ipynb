{
  "nbformat": 4,
  "nbformat_minor": 0,
  "metadata": {
    "colab": {
      "provenance": [],
      "include_colab_link": true
    },
    "kernelspec": {
      "name": "python3",
      "display_name": "Python 3"
    },
    "language_info": {
      "name": "python"
    }
  },
  "cells": [
    {
      "cell_type": "markdown",
      "metadata": {
        "id": "view-in-github",
        "colab_type": "text"
      },
      "source": [
        "<a href=\"https://colab.research.google.com/github/Naeima/image/blob/main/image.ipynb\" target=\"_parent\"><img src=\"https://colab.research.google.com/assets/colab-badge.svg\" alt=\"Open In Colab\"/></a>"
      ]
    },
    {
      "cell_type": "code",
      "metadata": {
        "id": "l2x83B14Lr-l"
      },
      "execution_count": null,
      "outputs": [],
      "source": [
        "!pip install rdflib"
      ]
    },
    {
      "cell_type": "code",
      "metadata": {
        "id": "OrFkEXNlLr-m"
      },
      "execution_count": null,
      "outputs": [],
      "source": [
        "from google.colab import files\n",
        "import pandas as pd\n",
        "from rdflib import Graph, Namespace, URIRef, Literal\n",
        "from rdflib.namespace import RDF, XSD\n",
        "\n",
        "# Prompt for file upload\n",
        "uploaded = files.upload()\n",
        "\n",
        "# Read the uploaded CSV file into a pandas DataFrame\n",
        "for filename in uploaded.keys():\n",
        "    print('User uploaded file \"{name}\" with length {length} bytes'.format(\n",
        "        name=filename, length=len(uploaded[filename])))\n",
        "    df = pd.read_csv(filename)\n",
        "    print(df.head())"
      ]
    },
    {
      "cell_type": "code",
      "metadata": {
        "id": "NJQjKdXELr-m"
      },
      "execution_count": null,
      "outputs": [],
      "source": [
        "import csv\n",
        "from rdflib import Graph, Namespace, URIRef, Literal\n",
        "from rdflib.namespace import RDF, XSD\n",
        "\n",
        "# Define namespaces\n",
        "FOO = Namespace(\"https://w3id.org/def/foo#\")\n",
        "SOSA = Namespace(\"http://www.w3.org/ns/sosa/\")\n",
        "GEO = Namespace(\"http://www.w3.org/2003/01/geo/wgs84_pos#\")\n",
        "\n",
        "# Create a new graph\n",
        "g = Graph()\n",
        "\n",
        "# Bind namespaces\n",
        "g.bind(\"foo\", FOO)\n",
        "g.bind(\"sosa\", SOSA)\n",
        "g.bind(\"geo\", GEO)\n",
        "\n",
        "# Path to your CSV file\n",
        "csv_file_path = filename  # Adjusted to dynamically handle the uploaded CSV file\n",
        "\n",
        "# Read and process data from the image CSV\n",
        "with open(csv_file_path, newline='') as csvfile:\n",
        "    reader = csv.DictReader(csvfile, delimiter=',')\n",
        "\n",
        "    # Print headers for debugging\n",
        "    print(\"Headers:\", reader.fieldnames)\n",
        "\n",
        "    for row in reader:\n",
        "        image_id = row.get('Image_ID', '').strip()  # Assuming there's an 'Image_ID' field\n",
        "        timestamp = row.get('Timestamp', '').strip()  # Assuming there's a 'Timestamp' field\n",
        "        camera_id = row.get('Camera_ID', '').strip()  # Assuming there's a 'Camera_ID' field\n",
        "        location = row.get('Location', '').strip()  # Assuming there's a 'Location' field\n",
        "        species = row.get('Species', '').strip()  # Assuming there's a 'Species' field\n",
        "\n",
        "        # Create an observation URI for the image\n",
        "        observation = URIRef(f\"https://w3id.org/def/foo#image_{image_id}\")\n",
        "        g.add((observation, RDF.type, FOO.imageObservation))\n",
        "        g.add((observation, FOO.imageID, Literal(image_id, datatype=XSD.string)))\n",
        "        g.add((observation, FOO.timestamp, Literal(timestamp, datatype=XSD.dateTime)))\n",
        "        g.add((observation, FOO.cameraID, Literal(camera_id, datatype=XSD.string)))\n",
        "        g.add((observation, FOO.location, Literal(location, datatype=XSD.string)))\n",
        "        if species:\n",
        "            g.add((observation, FOO.observes, Literal(species, datatype=XSD.string)))\n",
        "\n",
        "# Serialize the graph to a file\n",
        "output_file = \"image_metadata_knowledge_graph.ttl\"\n",
        "g.serialize(destination=output_file, format=\"turtle\")\n",
        "\n",
        "print(f\"Knowledge graph has been serialized to {output_file}\")"
      ]
    },
    {
      "cell_type": "code",
      "metadata": {
        "id": "SxIunEoWLr-n"
      },
      "execution_count": null,
      "outputs": [],
      "source": [
        "# Download the RDF Turtle file\n",
        "from google.colab import files\n",
        "files.download(output_file)"
      ]
    }
  ]
}